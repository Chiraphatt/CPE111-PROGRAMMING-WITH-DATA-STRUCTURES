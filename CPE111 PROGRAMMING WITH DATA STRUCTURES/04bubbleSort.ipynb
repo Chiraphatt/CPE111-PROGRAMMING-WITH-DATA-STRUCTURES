{
 "cells": [
  {
   "cell_type": "code",
   "execution_count": null,
   "metadata": {},
   "outputs": [],
   "source": [
    "#เพิ่มมาใหม่"
   ]
  },
  {
   "cell_type": "code",
   "execution_count": 4,
   "metadata": {},
   "outputs": [
    {
     "name": "stdout",
     "output_type": "stream",
     "text": [
      "Green is Average Case\n",
      "Blue is Best Case\n",
      "Red is Worst Case\n"
     ]
    },
    {
     "data": {
      "image/png": "[encoded data removed]",
      "text/plain": [
       "<Figure size 432x288 with 1 Axes>"
      ]
     },
     "metadata": {
      "needs_background": "light"
     },
     "output_type": "display_data"
    }
   ],
   "source": [
    "import random\n",
    "import time\n",
    "import matplotlib.pyplot as plt\n",
    "\n",
    "# Sorts a sequence in ascending order using the bubble sort algorithm.\n",
    "def bubbleSort( theSeq ):\n",
    "    n = len( theSeq ) - 1\n",
    "    # Perform n-1 bubble operations on the sequence\n",
    "    for i in range( n , 0 , -1 ) :\n",
    "        # Bubble the largest item to the end.\n",
    "        for j in range(i) :\n",
    "            if theSeq[j] > theSeq[j + 1] : # swap the j and j+1 items.\n",
    "                tmp = theSeq[j]\n",
    "                theSeq[j] = theSeq[j + 1]\n",
    "                theSeq[j + 1] = tmp\n",
    "    return theSeq\n",
    "\n",
    "num = [100, 200,400,500,600,700,800,900,1000,2000,4000,5000,6000,7000,8000,9000,10000]\n",
    "Average = []\n",
    "Best = []\n",
    "Worst = []\n",
    "for j in num :\n",
    "    seq = [] \n",
    "    for i in range(0 , j ):\n",
    "        seq.append(random.randint( 1, j ))\n",
    "        \n",
    "    start_A = time.time( )\n",
    "    A = bubbleSort(seq)\n",
    "    end_A = time.time( )\n",
    "    elapsed_A = end_A - start_A\n",
    "    \n",
    "    Average.append(elapsed_A)\n",
    "    \n",
    "    start_B = time.time( )\n",
    "    B = bubbleSort(A)\n",
    "    end_B = time.time( )\n",
    "    elapsed_B = end_B - start_B\n",
    "    \n",
    "    Best.append(elapsed_B)\n",
    "\n",
    "    B_reversed = reversed(B)\n",
    "    start_W = time.time( )\n",
    "    W = bubbleSort(list(B_reversed))\n",
    "    end_W = time.time( )\n",
    "    elapsed_W = end_W - start_W\n",
    "    \n",
    "    Worst.append(elapsed_W)\n",
    "    \n",
    "print(\"Green is Average Case\")\n",
    "print(\"Blue is Best Case\")\n",
    "print(\"Red is Worst Case\")\n",
    "\n",
    "plt.title('Bubble Sort', fontsize = 25)\n",
    "plt.xlabel(\"number of sequence\")\n",
    "plt.ylabel(\"Time\")\n",
    "plt.plot(num, Average,'g',num, Best,'b',num, Worst,'r')\n",
    "\n",
    "plt.show()"
   ]
  },
  {
   "cell_type": "code",
   "execution_count": null,
   "metadata": {},
   "outputs": [],
   "source": []
  }
 ],
 "metadata": {
  "kernelspec": {
   "display_name": "Python 3 (ipykernel)",
   "language": "python",
   "name": "python3"
  },
  "language_info": {
   "codemirror_mode": {
    "name": "ipython",
    "version": 3
   },
   "file_extension": ".py",
   "mimetype": "text/x-python",
   "name": "python",
   "nbconvert_exporter": "python",
   "pygments_lexer": "ipython3",
   "version": "3.7.9"
  }
 },
 "nbformat": 4,
 "nbformat_minor": 2
}
