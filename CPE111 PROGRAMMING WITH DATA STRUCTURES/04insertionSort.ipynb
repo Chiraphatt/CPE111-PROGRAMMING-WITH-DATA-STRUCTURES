{
 "cells": [
  {
   "cell_type": "code",
   "execution_count": 6,
   "metadata": {},
   "outputs": [
    {
     "name": "stdout",
     "output_type": "stream",
     "text": [
      "Green is Average\n",
      "Blue is Best Case\n",
      "RED is Worst\n"
     ]
    },
    {
     "data": {
      "image/png": "[encoded data removed]",
      "text/plain": [
       "<Figure size 432x288 with 1 Axes>"
      ]
     },
     "metadata": {
      "needs_background": "light"
     },
     "output_type": "display_data"
    }
   ],
   "source": [
    "import matplotlib.pyplot as plt\n",
    "import random\n",
    "import time\n",
    "def insertionSort(theSeq):\n",
    "    n = len(theSeq)\n",
    "    for i in range(1,n):\n",
    "        value = theSeq[i]\n",
    "        pos = i\n",
    "        while pos > 0 and value < theSeq[pos -1]:\n",
    "            theSeq[pos] = theSeq[pos - 1]\n",
    "            pos -= 1\n",
    "        theSeq[pos] = value\n",
    "    return theSeq\n",
    "\n",
    "#seq = [5,6,7,3,2,13,7,4,1]\n",
    "\n",
    "lis = [100, 200,400,500,600,700,800,900,1000,2000,4000,5000,6000,7000,8000,9000,10000]\n",
    "\n",
    "TimeA = []\n",
    "TimeB = []\n",
    "TimeW = []\n",
    "\n",
    "for j in lis:\n",
    "    seq = []\n",
    "    \n",
    "    for i in range(0, j):\n",
    "        \n",
    "        seq.append(random.randint(1,j))\n",
    "    start = time.time()\n",
    "    resu = insertionSort(seq)\n",
    "    \n",
    "    end = time.time()\n",
    "    elapsed = end - start\n",
    "\n",
    "    TimeA.append(elapsed)\n",
    "#----------------------------------------------#\n",
    "\n",
    "#Best case\n",
    "    startB = time.time()\n",
    "\n",
    "    resuB = insertionSort(resu)\n",
    "\n",
    "    endB = time.time()\n",
    "    elapB = endB - startB\n",
    "    TimeB.append(elapB)\n",
    "#----------------------------------------------#\n",
    "\n",
    "#Worst case\n",
    "    lisRe = reversed(resuB)\n",
    "    startW = time.time()\n",
    "    \n",
    "    resuW = insertionSort(list(lisRe))\n",
    "\n",
    "    endW = time.time()\n",
    "    elapW = endW - startW\n",
    "    TimeW.append(elapW)\n",
    "#----------------------------------------------#\n",
    "print(\"Green is Average\")\n",
    "print(\"Blue is Best Case\")\n",
    "print(\"RED is Worst\")\n",
    "\n",
    "plt.title('Insertion Sort', fontsize = 25)\n",
    "plt.xlabel(\"n\")\n",
    "plt.ylabel(\"Time\")\n",
    "plt.plot(lis, TimeA,'g',\n",
    "        lis, TimeB,'b',\n",
    "        lis, TimeW,'r')\n",
    "plt.show()\n"
   ]
  },
  {
   "cell_type": "code",
   "execution_count": null,
   "metadata": {},
   "outputs": [],
   "source": []
  }
 ],
 "metadata": {
  "kernelspec": {
   "display_name": "Python 3 (ipykernel)",
   "language": "python",
   "name": "python3"
  },
  "language_info": {
   "codemirror_mode": {
    "name": "ipython",
    "version": 3
   },
   "file_extension": ".py",
   "mimetype": "text/x-python",
   "name": "python",
   "nbconvert_exporter": "python",
   "pygments_lexer": "ipython3",
   "version": "3.7.9"
  }
 },
 "nbformat": 4,
 "nbformat_minor": 2
}
